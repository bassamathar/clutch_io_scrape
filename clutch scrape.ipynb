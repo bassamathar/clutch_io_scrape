{
 "cells": [
  {
   "cell_type": "code",
   "execution_count": 30,
   "id": "ec24e2d8-9409-40fc-b8d1-debf9efa9c51",
   "metadata": {},
   "outputs": [],
   "source": [
    "from bs4 import BeautifulSoup\n",
    "from selenium import webdriver\n",
    "from selenium.webdriver.chrome.service import Service\n",
    "from selenium.webdriver.common.by import By\n",
    "import time\n",
    "import pandas as pd\n",
    "from selenium.webdriver.support.ui import WebDriverWait\n",
    "from selenium.webdriver.support import expected_conditions as EC"
   ]
  },
  {
   "cell_type": "code",
   "execution_count": 31,
   "id": "283b541e-6a83-495f-956b-77351ccd9c58",
   "metadata": {},
   "outputs": [],
   "source": [
    "s = Service('C:/Users/Athar/Downloads/chromedriver-win64 (1)/chromedriver-win64/chromedriver.exe')\n",
    "driver = webdriver.Chrome(service=s)"
   ]
  },
  {
   "cell_type": "code",
   "execution_count": 32,
   "id": "e0ce6339-8338-4125-ac0f-8b35cba28d81",
   "metadata": {},
   "outputs": [],
   "source": [
    "url = 'https://clutch.co/it-services/analytics/power-bi?geona_id=840&page=1'\n",
    "driver.get(url)"
   ]
  },
  {
   "cell_type": "code",
   "execution_count": 33,
   "id": "28dca9ea-5c11-46d4-b074-8d774e1bb974",
   "metadata": {},
   "outputs": [],
   "source": [
    " driver.execute_script('window.scrollTo(0,16500)');"
   ]
  },
  {
   "cell_type": "code",
   "execution_count": 35,
   "id": "3aa447dd-1303-4287-baed-58a8b7dda4f6",
   "metadata": {},
   "outputs": [
    {
     "name": "stdout",
     "output_type": "stream",
     "text": [
      "An error occurred: Message: no such window: target window already closed\n",
      "from unknown error: web view not found\n",
      "  (Session info: chrome=125.0.6422.61)\n",
      "Stacktrace:\n",
      "\tGetHandleVerifier [0x00007FF75DA022C2+60002]\n",
      "\t(No symbol) [0x00007FF75D97CA59]\n",
      "\t(No symbol) [0x00007FF75D837EDA]\n",
      "\t(No symbol) [0x00007FF75D80D5B5]\n",
      "\t(No symbol) [0x00007FF75D8B3727]\n",
      "\t(No symbol) [0x00007FF75D8CB3A1]\n",
      "\t(No symbol) [0x00007FF75D8AC033]\n",
      "\t(No symbol) [0x00007FF75D879657]\n",
      "\t(No symbol) [0x00007FF75D87A251]\n",
      "\tGetHandleVerifier [0x00007FF75DD13E2D+3278285]\n",
      "\tGetHandleVerifier [0x00007FF75DD60190+3590448]\n",
      "\tGetHandleVerifier [0x00007FF75DD561D0+3549552]\n",
      "\tGetHandleVerifier [0x00007FF75DAB1DE6+779654]\n",
      "\t(No symbol) [0x00007FF75D987ACF]\n",
      "\t(No symbol) [0x00007FF75D982EE4]\n",
      "\t(No symbol) [0x00007FF75D983072]\n",
      "\t(No symbol) [0x00007FF75D972C4F]\n",
      "\tBaseThreadInitThunk [0x00007FF8A50F7344+20]\n",
      "\tRtlUserThreadStart [0x00007FF8A70626B1+33]\n",
      "\n"
     ]
    }
   ],
   "source": [
    "import time\n",
    "\n",
    "while True:\n",
    "    try:\n",
    "        driver.execute_script('window.scrollTo(0, 16500)')\n",
    "        time.sleep(1)  # Adding a short delay to allow time for elements to become clickable\n",
    "        next_page = driver.find_element(By.XPATH, '/html/body/main/section[1]/nav/ul/li[9]/a')\n",
    "        next_page.click()\n",
    "    except Exception as e:\n",
    "        print(f\"An error occurred: {e}\")\n",
    "        break\n"
   ]
  },
  {
   "cell_type": "code",
   "execution_count": 17,
   "id": "f7457b2c-1c96-4d3a-85a3-0e2f3af0524e",
   "metadata": {},
   "outputs": [
    {
     "ename": "KeyboardInterrupt",
     "evalue": "",
     "output_type": "error",
     "traceback": [
      "\u001b[1;31m---------------------------------------------------------------------------\u001b[0m",
      "\u001b[1;31mKeyboardInterrupt\u001b[0m                         Traceback (most recent call last)",
      "Cell \u001b[1;32mIn[17], line 11\u001b[0m\n\u001b[0;32m      9\u001b[0m \u001b[38;5;28;01mtry\u001b[39;00m:\n\u001b[0;32m     10\u001b[0m     soup \u001b[38;5;241m=\u001b[39m BeautifulSoup(driver\u001b[38;5;241m.\u001b[39mpage_source, \u001b[38;5;124m'\u001b[39m\u001b[38;5;124mlxml\u001b[39m\u001b[38;5;124m'\u001b[39m)    \n\u001b[1;32m---> 11\u001b[0m     \u001b[43mtime\u001b[49m\u001b[38;5;241;43m.\u001b[39;49m\u001b[43msleep\u001b[49m\u001b[43m(\u001b[49m\u001b[38;5;241;43m3\u001b[39;49m\u001b[43m)\u001b[49m\n\u001b[0;32m     12\u001b[0m     driver\u001b[38;5;241m.\u001b[39mexecute_script(\u001b[38;5;124m'\u001b[39m\u001b[38;5;124mwindow.scrollTo(0, 17000);\u001b[39m\u001b[38;5;124m'\u001b[39m)\n\u001b[0;32m     13\u001b[0m     \u001b[38;5;66;03m#WebDriverWait(driver, 10).until(\u001b[39;00m\n\u001b[0;32m     14\u001b[0m      \u001b[38;5;66;03m#   EC.presence_of_element_located((By.XPATH, \"//div[@class='row provider-info--header']\"))\u001b[39;00m\n\u001b[0;32m     15\u001b[0m     \u001b[38;5;66;03m#)\u001b[39;00m\n",
      "\u001b[1;31mKeyboardInterrupt\u001b[0m: "
     ]
    }
   ],
   "source": [
    "names_list = []\n",
    "links_list = []\n",
    "\n",
    "# Maximum number of iterations\n",
    "max_iterations = 100\n",
    "iterations = 0\n",
    "\n",
    "while True:\n",
    "    try:\n",
    "        soup = BeautifulSoup(driver.page_source, 'lxml')    \n",
    "        time.sleep(3)\n",
    "        driver.execute_script('window.scrollTo(0, 17000);')\n",
    "\n",
    "        names = soup.find_all('div', class_='row provider-info--header')\n",
    "        links = soup.find_all('a', class_='website-link__item')\n",
    "        \n",
    "        for name, link in zip(names, links):\n",
    "            name_text = name.get_text(strip=True)\n",
    "            link_href = link.get('href')\n",
    "            if name_text and link_href:  # Check if both name and link are present\n",
    "                names_list.append(name_text)\n",
    "                links_list.append(link_href)\n",
    "\n",
    "                try:\n",
    "                    driver.execute_script('window.scrollTo(0, 16500)')\n",
    "                    time.sleep(1)  # Adding a short delay to allow time for elements to become clickable\n",
    "                    next_page = driver.find_element(By.XPATH, '/html/body/main/section[1]/nav/ul/li[9]/a')\n",
    "                    next_page.click()\n",
    "                except Exception as e:\n",
    "                    print(f\"An error occurred: {e}\")\n",
    "                    break\n",
    "\n",
    "\n",
    "    except Exception as e:\n",
    "        print(f\"An error occurred: {e}\")\n",
    "        break\n",
    "\n",
    "\n",
    "max_len = max(len(names_list), len(links_list))\n",
    "names_list += [''] * (max_len - len(names_list))\n",
    "links_list += [''] * (max_len - len(links_list))\n",
    "\n",
    "data = {\n",
    "    'Name': names_list,\n",
    "    'Link': links_list\n",
    "}\n",
    "df = pd.DataFrame(data)\n",
    "\n",
    "# Display the DataFrame\n",
    "print(df)\n",
    "\n",
    "# Close the webdriver\n",
    "driver.quit()"
   ]
  },
  {
   "cell_type": "code",
   "execution_count": 7,
   "id": "b205cca2-7e20-41b6-845d-897e647d9ea8",
   "metadata": {},
   "outputs": [
    {
     "data": {
      "text/plain": [
       "<bound method NDFrame.tail of                         Name  \\\n",
       "0   WebfortisThe CRM Experts   \n",
       "1   WebfortisThe CRM Experts   \n",
       "2   WebfortisThe CRM Experts   \n",
       "3   WebfortisThe CRM Experts   \n",
       "4   WebfortisThe CRM Experts   \n",
       "5   WebfortisThe CRM Experts   \n",
       "6   WebfortisThe CRM Experts   \n",
       "7   WebfortisThe CRM Experts   \n",
       "8   WebfortisThe CRM Experts   \n",
       "9   WebfortisThe CRM Experts   \n",
       "10  WebfortisThe CRM Experts   \n",
       "11  WebfortisThe CRM Experts   \n",
       "12  WebfortisThe CRM Experts   \n",
       "13  WebfortisThe CRM Experts   \n",
       "14  WebfortisThe CRM Experts   \n",
       "15  WebfortisThe CRM Experts   \n",
       "16  WebfortisThe CRM Experts   \n",
       "17  WebfortisThe CRM Experts   \n",
       "\n",
       "                                                 Link  \n",
       "0   https://insightglobal.com/?utm_source=clutch.c...  \n",
       "1   https://insightglobal.com/?utm_source=clutch.c...  \n",
       "2   https://insightglobal.com/?utm_source=clutch.c...  \n",
       "3   https://insightglobal.com/?utm_source=clutch.c...  \n",
       "4   https://insightglobal.com/?utm_source=clutch.c...  \n",
       "5   https://insightglobal.com/?utm_source=clutch.c...  \n",
       "6   https://insightglobal.com/?utm_source=clutch.c...  \n",
       "7   https://insightglobal.com/?utm_source=clutch.c...  \n",
       "8   https://insightglobal.com/?utm_source=clutch.c...  \n",
       "9   https://insightglobal.com/?utm_source=clutch.c...  \n",
       "10  https://insightglobal.com/?utm_source=clutch.c...  \n",
       "11  https://insightglobal.com/?utm_source=clutch.c...  \n",
       "12  https://insightglobal.com/?utm_source=clutch.c...  \n",
       "13  https://insightglobal.com/?utm_source=clutch.c...  \n",
       "14  https://insightglobal.com/?utm_source=clutch.c...  \n",
       "15  https://insightglobal.com/?utm_source=clutch.c...  \n",
       "16  https://insightglobal.com/?utm_source=clutch.c...  \n",
       "17  https://insightglobal.com/?utm_source=clutch.c...  >"
      ]
     },
     "execution_count": 7,
     "metadata": {},
     "output_type": "execute_result"
    }
   ],
   "source": [
    "df.tail"
   ]
  },
  {
   "cell_type": "code",
   "execution_count": 42,
   "id": "e9e49649-b1f6-4471-bc50-02c96401094c",
   "metadata": {},
   "outputs": [
    {
     "data": {
      "text/plain": [
       "Series([], Name: Link, dtype: float64)"
      ]
     },
     "execution_count": 42,
     "metadata": {},
     "output_type": "execute_result"
    }
   ],
   "source": [
    "lunk = df['Link']\n",
    "lunk"
   ]
  },
  {
   "cell_type": "code",
   "execution_count": 43,
   "id": "9e5341ed-c28b-4147-b5d3-135a809f0612",
   "metadata": {},
   "outputs": [],
   "source": [
    "from bs4 import BeautifulSoup\n",
    "import requests\n",
    "import requests.exceptions\n",
    "import urllib.parse\n",
    "from collections import deque\n",
    "import re\n",
    "\n",
    "\n",
    "for link in lunk:\n",
    "    user_url = link\n",
    "    urls = deque([user_url])\n",
    "    scraped_urls = set()\n",
    "    emails = set()\n",
    "    \n",
    "    count = 0\n",
    "    try:\n",
    "        while len(urls):\n",
    "            count += 1\n",
    "            if count > 100:\n",
    "                break\n",
    "            url = urls.popleft()\n",
    "            scraped_urls.add(url)\n",
    "            parts = urllib.parse.urlsplit(url)\n",
    "            base_url = '{0.scheme}://{0.netloc}'.format(parts)\n",
    "            path = url[:url.rfind('/') + 1] if '/' in parts.path else url\n",
    "            print('[{}] Processing {}'.format(count, url))\n",
    "            try:\n",
    "                response = requests.get(url)\n",
    "            except (requests.exceptions.MissingSchema, requests.exceptions.ConnectionError):\n",
    "                continue\n",
    "    \n",
    "            new_emails = set(re.findall(r'[a-z0-9\\.\\-+_]+@[a-z0-9\\.\\-+_]+\\.[a-z]+', response.text, re.I))\n",
    "            emails.update(new_emails)\n",
    "    \n",
    "            soup = BeautifulSoup(response.text, 'html.parser')\n",
    "    \n",
    "            for anchor in soup.find_all(\"a\"):\n",
    "                link = anchor.get('href', '')\n",
    "                if link.startswith('/'):\n",
    "                    link = base_url + link\n",
    "                elif link.startswith('http'):\n",
    "                    link = link\n",
    "                if link not in urls and link not in scraped_urls:\n",
    "                    urls.append(link)\n",
    "    except KeyboardInterrupt:\n",
    "        print('[-] Closing')\n",
    "    \n",
    "    for mail in emails:\n",
    "        print(mail)"
   ]
  },
  {
   "cell_type": "code",
   "execution_count": null,
   "id": "3e405241-2d1b-4876-8f2d-403bc3dd0571",
   "metadata": {},
   "outputs": [],
   "source": []
  }
 ],
 "metadata": {
  "kernelspec": {
   "display_name": "Python 3 (ipykernel)",
   "language": "python",
   "name": "python3"
  },
  "language_info": {
   "codemirror_mode": {
    "name": "ipython",
    "version": 3
   },
   "file_extension": ".py",
   "mimetype": "text/x-python",
   "name": "python",
   "nbconvert_exporter": "python",
   "pygments_lexer": "ipython3",
   "version": "3.12.3"
  }
 },
 "nbformat": 4,
 "nbformat_minor": 5
}
